{
  "nbformat": 4,
  "nbformat_minor": 0,
  "metadata": {
    "colab": {
      "provenance": [],
      "authorship_tag": "ABX9TyOmM0B9e3EfqRJ7W1kqxDW5",
      "include_colab_link": true
    },
    "kernelspec": {
      "name": "python3",
      "display_name": "Python 3"
    },
    "language_info": {
      "name": "python"
    }
  },
  "cells": [
    {
      "cell_type": "markdown",
      "metadata": {
        "id": "view-in-github",
        "colab_type": "text"
      },
      "source": [
        "<a href=\"https://colab.research.google.com/github/JFang2023/JF/blob/main/%20JF/Machine%20Learning/Supervised%20Learning/Falling%20Prediction%20using%20KNN/W3H1_Project_Falling_Detection.ipynb\" target=\"_parent\"><img src=\"https://colab.research.google.com/assets/colab-badge.svg\" alt=\"Open In Colab\"/></a>"
      ]
    },
    {
      "cell_type": "code",
      "execution_count": 1,
      "metadata": {
        "colab": {
          "base_uri": "https://localhost:8080/"
        },
        "id": "-dff-aX_ty4T",
        "outputId": "44ac0b5a-5027-4921-eeba-be03291341c1"
      },
      "outputs": [
        {
          "output_type": "stream",
          "name": "stdout",
          "text": [
            "Expected 1, Got 1.\n"
          ]
        }
      ],
      "source": [
        "#Original code: https://hc.labnet.sfbu.edu/~henry/sfbu/course/data_science/algorithm/slide/knn_from_scratch.html\n",
        "from math import sqrt\n",
        "\n",
        "#Get euclidean distance between two vectors\n",
        "#Euclidean Distance = sqrt(sum i to N (x1_i – x2_i)^2)\n",
        "def euclidean_distance(row1, row2):\n",
        "\tdistance = 0.0\n",
        "\tfor i in range(len(row1)-1):\n",
        "\t\tdistance += (row1[i] - row2[i])**2\n",
        "\treturn sqrt(distance)\n",
        "\n",
        "#Locate three nearest neighbors\n",
        "def get_neighbors(train, test_row, num_neighbors):\n",
        "\tdistances = list()\n",
        "\tfor train_row in train:\n",
        "\t\tdist = euclidean_distance(test_row, train_row)\n",
        "\t\tdistances.append((train_row, dist))\n",
        "\tdistances.sort(key=lambda tup: tup[1])\n",
        "\tneighbors = list()\n",
        "\tfor i in range(num_neighbors):\n",
        "\t\tneighbors.append(distances[i][0])\n",
        "\treturn neighbors\n",
        "\n",
        "# Make a classification prediction with neighbors\n",
        "# - test_row is row 0\n",
        "# - num_neighbors is 3\n",
        "def predict_classification(train, test_row, num_neighbors):\n",
        "\tneighbors = get_neighbors(train, test_row, num_neighbors)\n",
        "\toutput_values = [row[-1] for row in neighbors]\n",
        "\tprediction = max(set(output_values), key=output_values.count)\n",
        "\treturn prediction\n",
        " \n",
        "#Tranining data set and the test data in row 0\n",
        "dataset = [[7,6,5,5,6,7,1],\n",
        "    [1,2,3,2,1,3,0],\n",
        "    [2,1,3,3,1,2,0],\n",
        "    [1,1,2,3,2,2,0],\n",
        "    [2,2,3,3,2,1,0],\n",
        "    [6,5,7,5,6,7,0],\n",
        "    [5,6,6,6,5,7,1],\n",
        "    [5,6,7,5,7,6,1],\n",
        "    [7,6,7,6,5,6,1]]\n",
        "\n",
        "prediction = predict_classification(dataset, dataset[0], 3)\n",
        "\n",
        "# - Display\n",
        "print('Expected %d, Got %d.' % (dataset[0][-1], prediction))\n"
      ]
    }
  ]
}